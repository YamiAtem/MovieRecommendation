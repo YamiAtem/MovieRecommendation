{
 "cells": [
  {
   "cell_type": "markdown",
   "metadata": {
    "collapsed": true
   },
   "source": [
    "<h1 style=\"font-family: 'Courier New', Courier, monospace\">Movie Recommendations</h1>"
   ]
  },
  {
   "cell_type": "markdown",
   "metadata": {},
   "source": [
    "<h2 style=\"font-family: 'Courier New', Courier, monospace\">Types of Filtering for Ads</h2>"
   ]
  },
  {
   "cell_type": "markdown",
   "metadata": {},
   "source": [
    "<ol style=\"font-family: 'Courier New', Courier, monospace;font-size: 12pt;\">\r\n",
    "    <li>Demographic Filtering</li>\r\n",
    "    <br>\r\n",
    "    <li>Content Based Flitering</li>\r\n",
    "    <br>\r\n",
    "    <li>Colaborative Filtering</li>\r\n",
    "</ol>"
   ]
  },
  {
   "cell_type": "code",
   "execution_count": 10,
   "metadata": {},
   "outputs": [],
   "source": [
    "import pandas\r\n",
    "import numpy\r\n",
    "\r\n",
    "movies_data_frame = pandas.read_csv(\"data/tmdb_5000_movies.csv\")\r\n",
    "credits_data_frame = pandas.read_csv(\"data/tmdb_5000_credits.csv\")\r\n",
    "\r\n",
    "credits_data_frame.columns = [\"id\", \"title\", \"cast\", \"crew\"]\r\n",
    "movies_data_frame = movies_data_frame.merge(credits_data_frame, on=\"id\")"
   ]
  },
  {
   "cell_type": "code",
   "execution_count": null,
   "metadata": {},
   "outputs": [],
   "source": []
  }
 ],
 "metadata": {
  "interpreter": {
   "hash": "2647ea34e536f865ab67ff9ddee7fd78773d956cec0cab53c79b32cd10da5d83"
  },
  "kernelspec": {
   "display_name": "Python 3.9.6 64-bit",
   "name": "python3"
  },
  "language_info": {
   "codemirror_mode": {
    "name": "ipython",
    "version": 3
   },
   "file_extension": ".py",
   "mimetype": "text/x-python",
   "name": "python",
   "nbconvert_exporter": "python",
   "pygments_lexer": "ipython3",
   "version": "3.9.6"
  }
 },
 "nbformat": 4,
 "nbformat_minor": 0
}